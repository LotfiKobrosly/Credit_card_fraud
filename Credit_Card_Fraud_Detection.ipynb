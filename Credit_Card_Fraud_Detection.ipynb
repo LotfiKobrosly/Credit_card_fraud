{
 "cells": [
  {
   "cell_type": "markdown",
   "metadata": {},
   "source": [
    "## Data Camp Project"
   ]
  },
  {
   "cell_type": "markdown",
   "metadata": {},
   "source": [
    "# Credit Card Fraud Detection "
   ]
  },
  {
   "cell_type": "markdown",
   "metadata": {},
   "source": [
    "Authors:\n",
    "  * Yuhe Bai\n",
    "  * Jérôme Bonnin\n",
    "  * Louis Mercier\n",
    "  * Dan Allouche\n",
    "  * Lotfi Kobrosly"
   ]
  },
  {
   "cell_type": "markdown",
   "metadata": {},
   "source": [
    "## Table of contents"
   ]
  },
  {
   "source": [
    "The number of credit card transactions are increasing in line\n",
    "with technological developments and the rise of e-commerce. Although credit card payments facilitate all kinds of business activities, credit card fraud is a significant problem.\n",
    "\n",
    "Credit card fraud not only brings huge economic losses to\n",
    "financial institutions and banks, but also trouble and stress\n",
    "to the lives of individuals who are affected. Recent statistics\n",
    "show that, in 2018 the global economic loss caused by credit\n",
    "card fraud was 27.85 billion dollars, an increase of 16.2%\n",
    "compared with 23.97 billion dollars in 2017. If this trend\n",
    "continues, by 2023 the economic losses caused by credit card\n",
    "fraud will exceed 35 billion dollars...\n",
    "\n",
    "The ratio of fraudulent transactions to normal transactions is approximately 0,006%\n",
    "worldwide. Although this rate may seem insignificant, every\n",
    "fraudulent transaction hurts the reputation of banks. For this\n",
    "reason, banks are investing in fraud detection. The number of fraudulent activities and their methods increases and\n",
    "changes every day. It is very difficult and costly to detect\n",
    "fraudulent activities only by examining the transactions. Fast\n",
    "and accurate fraud detection is crucial to maintain customer\n",
    "satisfaction and trust. Therefore, banks need to identify these\n",
    "transactions as quickly as possible and in the least harmful\n",
    "way for the customer.\n",
    "\n",
    "\n",
    "(Today, fraudulent activities using social engineering are\n",
    "predominantly performed through Internet. Malware and\n",
    "phishing methods are engineered for this purpose. Most popular types of fraud include customer information altering\n",
    "through call center and branches, ATM fraud, credit card\n",
    "application fraud, card account theft, lost-stolen, fake credit\n",
    "cards and card duplication [3].)\n",
    "\n",
    "\n",
    "The design of efficient fraud detection algorithms is key for reducing these losses, and more and more algorithms rely on advanced machine learning techniques to assist fraud investigators. \n",
    "In addition effective fraud detection applications can increase customer confidence and\n",
    "reduce customer complaints. Most credit card fraud detection\n",
    "approaches make use of machine learning, espetially supervised learning methods.\n",
    "\n",
    "However, in\n",
    "credit fraud situations, the number of positive (fraudulent)\n",
    "cases is much smaller than the number of negative cases.\n",
    "This creates a problem of imbalanced classification, where\n",
    "one class is very much smaller than the other class."
   ],
   "cell_type": "markdown",
   "metadata": {}
  },
  {
   "cell_type": "markdown",
   "metadata": {},
   "source": [
    "## Imports"
   ]
  },
  {
   "cell_type": "code",
   "execution_count": 2,
   "metadata": {},
   "outputs": [],
   "source": [
    "import numpy as np\n",
    "import pandas as pd\n",
    "import matplotlib.pyplot as plt\n",
    "%matplotlib inline"
   ]
  },
  {
   "cell_type": "code",
   "execution_count": 8,
   "metadata": {},
   "outputs": [],
   "source": [
    "data = pd.read_csv('creditcard.csv').drop(columns=['Time'])"
   ]
  },
  {
   "source": [
    "Researchers have proposed many measurement metrics to\n",
    "detect the performance of imbalanced classification models.\n",
    "These metrics include recall rate [17], [38], specificity [17],\n",
    "precision [17], [38], F-measure [17], [38], and accuracy. In\n",
    "this paper, we focus on two indicators: precision and Fmeasure. In credit card fraud, these are considered the most\n",
    "important indicators. Precision is the ratio of the number of\n",
    "real positive cases and the number of predicted positive cases.\n",
    "In the detection of credit card fraud, the first goal is to provide\n",
    "the maximum truth, that is, the highest precision. In practice,\n",
    "a false alarm can lead to a poor customer experience, and\n",
    "potentially lead to the loss of customers, so the precision\n",
    "of the model is very important, and is considered the most\n",
    "important indicator of the fraud system. On the other hand,\n",
    "although precision can be increased by reducing the model’s\n",
    "recall rate, it is impossible to improve the precision by\n",
    "reducing the recall rate without limitation. Recall rate is\n",
    "the ratio of the number of predicted positive cases to the\n",
    "number of all real positive cases. Real fraud problems have\n",
    "real negative economic implications to the enterprise, so the\n",
    "recall rate is also worthy of our attention. Another indicator\n",
    "is the F-measure, which takes values on the range [0,1].\n",
    "The F-measure captures both the precision and recall rate,\n",
    "measuring improvements in both indicators simultaneously.\n",
    "In machine learning, this index is often used to evaluate the\n",
    "advantages and disadvantages of various algorithms, because\n",
    "it can evaluate the precision and recall rate in combination.\n",
    "Accuracy is a commonly used indicator, which represents the\n",
    "proportion between the number of correctly classified cases\n",
    "and the total number of cases. If the accuracy of a model\n",
    "is too low, it cannot be applied in practice. Specificity is\n",
    "the ratio of the number of predicted negative cases predicted\n",
    "to be negative to the number of real negative cases. In the\n",
    "experiment, we consider these five indicators to measure the\n",
    "performance of the model.\n"
   ],
   "cell_type": "markdown",
   "metadata": {}
  },
  {
   "cell_type": "code",
   "execution_count": null,
   "metadata": {},
   "outputs": [],
   "source": []
  }
 ],
 "metadata": {
  "kernelspec": {
   "display_name": "Python 3",
   "language": "python",
   "name": "python3"
  },
  "language_info": {
   "codemirror_mode": {
    "name": "ipython",
    "version": 3
   },
   "file_extension": ".py",
   "mimetype": "text/x-python",
   "name": "python",
   "nbconvert_exporter": "python",
   "pygments_lexer": "ipython3",
   "version": "3.8.5-final"
  }
 },
 "nbformat": 4,
 "nbformat_minor": 4
}